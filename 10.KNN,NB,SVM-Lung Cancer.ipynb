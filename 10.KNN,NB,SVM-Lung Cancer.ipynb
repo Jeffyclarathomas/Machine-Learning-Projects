{
 "cells": [
  {
   "cell_type": "markdown",
   "id": "ceaa9b2c",
   "metadata": {},
   "source": [
    "# Prediction of Lung Cancer"
   ]
  },
  {
   "cell_type": "code",
   "execution_count": 14,
   "id": "09f3e58e",
   "metadata": {},
   "outputs": [],
   "source": [
    "#Import Libraries\n",
    "import numpy as np\n",
    "import pandas as pd"
   ]
  },
  {
   "cell_type": "code",
   "execution_count": 15,
   "id": "e91ce4e3",
   "metadata": {},
   "outputs": [
    {
     "data": {
      "text/html": [
       "<div>\n",
       "<style scoped>\n",
       "    .dataframe tbody tr th:only-of-type {\n",
       "        vertical-align: middle;\n",
       "    }\n",
       "\n",
       "    .dataframe tbody tr th {\n",
       "        vertical-align: top;\n",
       "    }\n",
       "\n",
       "    .dataframe thead th {\n",
       "        text-align: right;\n",
       "    }\n",
       "</style>\n",
       "<table border=\"1\" class=\"dataframe\">\n",
       "  <thead>\n",
       "    <tr style=\"text-align: right;\">\n",
       "      <th></th>\n",
       "      <th>Name</th>\n",
       "      <th>Surname</th>\n",
       "      <th>Age</th>\n",
       "      <th>Smokes</th>\n",
       "      <th>AreaQ</th>\n",
       "      <th>Alkhol</th>\n",
       "      <th>Result</th>\n",
       "    </tr>\n",
       "  </thead>\n",
       "  <tbody>\n",
       "    <tr>\n",
       "      <th>0</th>\n",
       "      <td>John</td>\n",
       "      <td>Wick</td>\n",
       "      <td>35</td>\n",
       "      <td>3</td>\n",
       "      <td>5</td>\n",
       "      <td>4</td>\n",
       "      <td>1</td>\n",
       "    </tr>\n",
       "    <tr>\n",
       "      <th>1</th>\n",
       "      <td>John</td>\n",
       "      <td>Constantine</td>\n",
       "      <td>27</td>\n",
       "      <td>20</td>\n",
       "      <td>2</td>\n",
       "      <td>5</td>\n",
       "      <td>1</td>\n",
       "    </tr>\n",
       "    <tr>\n",
       "      <th>2</th>\n",
       "      <td>Camela</td>\n",
       "      <td>Anderson</td>\n",
       "      <td>30</td>\n",
       "      <td>0</td>\n",
       "      <td>5</td>\n",
       "      <td>2</td>\n",
       "      <td>0</td>\n",
       "    </tr>\n",
       "    <tr>\n",
       "      <th>3</th>\n",
       "      <td>Alex</td>\n",
       "      <td>Telles</td>\n",
       "      <td>28</td>\n",
       "      <td>0</td>\n",
       "      <td>8</td>\n",
       "      <td>1</td>\n",
       "      <td>0</td>\n",
       "    </tr>\n",
       "    <tr>\n",
       "      <th>4</th>\n",
       "      <td>Diego</td>\n",
       "      <td>Maradona</td>\n",
       "      <td>68</td>\n",
       "      <td>4</td>\n",
       "      <td>5</td>\n",
       "      <td>6</td>\n",
       "      <td>1</td>\n",
       "    </tr>\n",
       "  </tbody>\n",
       "</table>\n",
       "</div>"
      ],
      "text/plain": [
       "     Name      Surname  Age  Smokes  AreaQ  Alkhol  Result\n",
       "0    John         Wick   35       3      5       4       1\n",
       "1    John  Constantine   27      20      2       5       1\n",
       "2  Camela     Anderson   30       0      5       2       0\n",
       "3    Alex       Telles   28       0      8       1       0\n",
       "4   Diego     Maradona   68       4      5       6       1"
      ]
     },
     "execution_count": 15,
     "metadata": {},
     "output_type": "execute_result"
    }
   ],
   "source": [
    "#Load Dataset\n",
    "df=pd.read_csv('/home/student/Downloads/lung_cancer_examples.csv')\n",
    "df.head()"
   ]
  },
  {
   "cell_type": "code",
   "execution_count": 16,
   "id": "52f23466",
   "metadata": {},
   "outputs": [
    {
     "data": {
      "text/plain": [
       "Name       0\n",
       "Surname    0\n",
       "Age        0\n",
       "Smokes     0\n",
       "AreaQ      0\n",
       "Alkhol     0\n",
       "Result     0\n",
       "dtype: int64"
      ]
     },
     "execution_count": 16,
     "metadata": {},
     "output_type": "execute_result"
    }
   ],
   "source": [
    "df.isna().sum()"
   ]
  },
  {
   "cell_type": "code",
   "execution_count": 17,
   "id": "d95be2eb",
   "metadata": {},
   "outputs": [
    {
     "data": {
      "text/plain": [
       "array([[35,  3,  5,  4],\n",
       "       [27, 20,  2,  5],\n",
       "       [30,  0,  5,  2],\n",
       "       [28,  0,  8,  1],\n",
       "       [68,  4,  5,  6],\n",
       "       [34,  0, 10,  0],\n",
       "       [58, 15, 10,  0],\n",
       "       [22, 12,  5,  2],\n",
       "       [45,  2,  6,  0],\n",
       "       [52, 18,  4,  5],\n",
       "       [33,  4,  8,  0],\n",
       "       [18, 10,  6,  3],\n",
       "       [25,  2,  5,  1],\n",
       "       [28, 20,  2,  8],\n",
       "       [34, 25,  4,  8],\n",
       "       [39, 18,  8,  1],\n",
       "       [42, 22,  3,  5],\n",
       "       [19, 12,  8,  0],\n",
       "       [62,  5,  4,  3],\n",
       "       [73, 10,  7,  6],\n",
       "       [55, 15,  1,  3],\n",
       "       [33,  8,  8,  1],\n",
       "       [22, 20,  6,  2],\n",
       "       [44,  5,  8,  1],\n",
       "       [77,  3,  2,  6],\n",
       "       [21, 20,  5,  3],\n",
       "       [37, 15,  6,  2],\n",
       "       [34, 12,  8,  0],\n",
       "       [55, 20,  1,  4],\n",
       "       [40, 20,  2,  7],\n",
       "       [36, 13,  5,  2],\n",
       "       [56, 20,  3,  3],\n",
       "       [47, 15,  1,  8],\n",
       "       [62, 25,  3,  4],\n",
       "       [26, 10,  7,  2],\n",
       "       [25, 20,  8,  2],\n",
       "       [59, 20,  3,  4],\n",
       "       [62, 15,  5,  5],\n",
       "       [33, 25,  8,  2],\n",
       "       [37, 10,  5,  3],\n",
       "       [50, 20,  2,  4],\n",
       "       [47, 12,  8,  0],\n",
       "       [69, 20,  5,  4],\n",
       "       [63, 20,  4,  5],\n",
       "       [39, 15,  7,  2],\n",
       "       [21, 20,  8,  3],\n",
       "       [31, 20,  9,  4],\n",
       "       [28, 10,  4,  1],\n",
       "       [53, 20,  6,  3],\n",
       "       [62, 20,  5,  6],\n",
       "       [42, 12,  6,  2],\n",
       "       [44, 30,  1,  6],\n",
       "       [26, 34,  1,  8],\n",
       "       [35, 20,  5,  1],\n",
       "       [26, 13,  6,  1],\n",
       "       [77, 20,  5,  4],\n",
       "       [75, 15,  3,  5],\n",
       "       [43, 30,  3,  8],\n",
       "       [51, 25,  9,  0]])"
      ]
     },
     "execution_count": 17,
     "metadata": {},
     "output_type": "execute_result"
    }
   ],
   "source": [
    "#Input data\n",
    "x=df.iloc[:,2:-1].values\n",
    "x"
   ]
  },
  {
   "cell_type": "code",
   "execution_count": 18,
   "id": "cadff0d8",
   "metadata": {},
   "outputs": [
    {
     "data": {
      "text/plain": [
       "array([1, 1, 0, 0, 1, 0, 0, 0, 0, 1, 0, 0, 0, 1, 1, 0, 1, 0, 1, 1, 1, 0,\n",
       "       0, 0, 1, 0, 0, 0, 1, 1, 0, 1, 1, 1, 0, 0, 1, 1, 0, 0, 1, 0, 1, 1,\n",
       "       0, 0, 0, 0, 1, 1, 0, 1, 1, 0, 0, 1, 1, 1, 0])"
      ]
     },
     "execution_count": 18,
     "metadata": {},
     "output_type": "execute_result"
    }
   ],
   "source": [
    "#Output data\n",
    "y=df.iloc[:,-1].values\n",
    "y"
   ]
  },
  {
   "cell_type": "code",
   "execution_count": 19,
   "id": "baac5812",
   "metadata": {},
   "outputs": [],
   "source": [
    "#Splitting Dataset into Train & Test Datasets\n",
    "from sklearn.model_selection import train_test_split\n",
    "x_train,x_test,y_train,y_test=train_test_split(x,y,test_size=0.30,random_state=1)"
   ]
  },
  {
   "cell_type": "code",
   "execution_count": 20,
   "id": "e0d477b3",
   "metadata": {},
   "outputs": [
    {
     "data": {
      "text/plain": [
       "array([1, 0, 0, 0, 0, 0, 0, 1, 0, 1, 0, 0, 1, 1, 1, 0, 1, 0])"
      ]
     },
     "execution_count": 20,
     "metadata": {},
     "output_type": "execute_result"
    }
   ],
   "source": [
    "#Naive Bayes model\n",
    "from sklearn.naive_bayes import GaussianNB\n",
    "model1=GaussianNB()\n",
    "model1.fit(x_train,y_train)\n",
    "y_pred=model1.predict(x_test)\n",
    "y_pred"
   ]
  },
  {
   "cell_type": "code",
   "execution_count": 21,
   "id": "478fa54e",
   "metadata": {},
   "outputs": [
    {
     "name": "stdout",
     "output_type": "stream",
     "text": [
      "[1]\n"
     ]
    }
   ],
   "source": [
    "print(model.predict([[62,5,4,3]]))"
   ]
  },
  {
   "cell_type": "code",
   "execution_count": 22,
   "id": "7f33d355",
   "metadata": {},
   "outputs": [
    {
     "name": "stdout",
     "output_type": "stream",
     "text": [
      "[[11  0]\n",
      " [ 0  7]]\n",
      "1.0\n"
     ]
    }
   ],
   "source": [
    "##Evaluating Model -Accuracy Score and Confusion Matrix \n",
    "from sklearn.metrics import accuracy_score,confusion_matrix\n",
    "result=confusion_matrix(y_test,y_pred)\n",
    "score=accuracy_score(y_test,y_pred)\n",
    "print(result)\n",
    "print(score)"
   ]
  },
  {
   "cell_type": "code",
   "execution_count": 23,
   "id": "f04245e9",
   "metadata": {},
   "outputs": [
    {
     "data": {
      "text/plain": [
       "array([1, 0, 0, 0, 0, 0, 0, 1, 0, 1, 0, 0, 1, 1, 1, 0, 1, 0])"
      ]
     },
     "execution_count": 23,
     "metadata": {},
     "output_type": "execute_result"
    }
   ],
   "source": [
    "#KNN model\n",
    "from sklearn.neighbors import KNeighborsClassifier\n",
    "model2=KNeighborsClassifier(n_neighbors=3)\n",
    "model2.fit(x_train,y_train)\n",
    "y_pred=model2.predict(x_test)\n",
    "y_pred"
   ]
  },
  {
   "cell_type": "code",
   "execution_count": 24,
   "id": "28608d7f",
   "metadata": {},
   "outputs": [
    {
     "name": "stdout",
     "output_type": "stream",
     "text": [
      "[1]\n"
     ]
    }
   ],
   "source": [
    "print(model.predict([[62,5,4,3]]))"
   ]
  },
  {
   "cell_type": "code",
   "execution_count": 25,
   "id": "91a3f42c",
   "metadata": {},
   "outputs": [
    {
     "name": "stdout",
     "output_type": "stream",
     "text": [
      "[[11  0]\n",
      " [ 0  7]]\n",
      "1.0\n"
     ]
    },
    {
     "data": {
      "image/png": "[encoded data removed]",
      "text/plain": [
       "<Figure size 640x480 with 2 Axes>"
      ]
     },
     "metadata": {},
     "output_type": "display_data"
    }
   ],
   "source": [
    "#Evaluating Model -Accuracy Score and Confusion Matrix and ConfusionMatrixDisplay\n",
    "from sklearn.metrics._plot.confusion_matrix import confusion_matrix\n",
    "from sklearn.metrics import classification_report,accuracy_score,ConfusionMatrixDisplay\n",
    "labels=[ 'Lunger Cancer patient','not lung cancer patient']\n",
    "result=confusion_matrix(y_test,y_pred)\n",
    "cm=ConfusionMatrixDisplay(result,display_labels=labels)\n",
    "cm.plot()\n",
    "score=accuracy_score(y_test,y_pred)\n",
    "print(result)\n",
    "print(score)"
   ]
  },
  {
   "cell_type": "code",
   "execution_count": 26,
   "id": "d8ad07d6",
   "metadata": {},
   "outputs": [
    {
     "data": {
      "text/plain": [
       "array([1, 0, 0, 0, 0, 0, 0, 1, 0, 1, 0, 0, 1, 1, 1, 0, 1, 0])"
      ]
     },
     "execution_count": 26,
     "metadata": {},
     "output_type": "execute_result"
    }
   ],
   "source": [
    "#SVM\n",
    "from sklearn.svm import SVC\n",
    "model3=SVC()\n",
    "model3.fit(x_train,y_train)\n",
    "y_pred=model3.predict(x_test)\n",
    "y_pred"
   ]
  },
  {
   "cell_type": "code",
   "execution_count": 28,
   "id": "43f5457c",
   "metadata": {},
   "outputs": [
    {
     "name": "stdout",
     "output_type": "stream",
     "text": [
      "1.0\n",
      "[[11  0]\n",
      " [ 0  7]]\n",
      "              precision    recall  f1-score   support\n",
      "\n",
      "           0       1.00      1.00      1.00        11\n",
      "           1       1.00      1.00      1.00         7\n",
      "\n",
      "    accuracy                           1.00        18\n",
      "   macro avg       1.00      1.00      1.00        18\n",
      "weighted avg       1.00      1.00      1.00        18\n",
      "\n"
     ]
    }
   ],
   "source": [
    "from sklearn.metrics import confusion_matrix,accuracy_score,classification_report\n",
    "accuracy=accuracy_score(y_pred,y_test)\n",
    "print(accuracy)\n",
    "cm=confusion_matrix(y_pred,y_test)\n",
    "print(cm)\n",
    "report=classification_report(y_pred,y_test)\n",
    "print(report)"
   ]
  },
  {
   "cell_type": "code",
   "execution_count": null,
   "id": "b2acc609",
   "metadata": {},
   "outputs": [],
   "source": []
  }
 ],
 "metadata": {
  "kernelspec": {
   "display_name": "Python 3 (ipykernel)",
   "language": "python",
   "name": "python3"
  },
  "language_info": {
   "codemirror_mode": {
    "name": "ipython",
    "version": 3
   },
   "file_extension": ".py",
   "mimetype": "text/x-python",
   "name": "python",
   "nbconvert_exporter": "python",
   "pygments_lexer": "ipython3",
   "version": "3.8.10"
  }
 },
 "nbformat": 4,
 "nbformat_minor": 5
}
