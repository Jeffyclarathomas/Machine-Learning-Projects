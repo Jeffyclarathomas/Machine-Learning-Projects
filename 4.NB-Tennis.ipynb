{
 "cells": [
  {
   "cell_type": "code",
   "execution_count": 1,
   "id": "30048e73",
   "metadata": {},
   "outputs": [],
   "source": [
    "outlook=['sunny','sunny','overcast','rainy','rainy','rainy','overcast','sunny','sunny','rainy','sunny','overcast','overcast','rainy']\n",
    "temperature=['hot','hot','hot','mild','cool','cool','cool','mild','cool','mild','mild','mild','hot','mild']\n",
    "humidity=['high','high','high','high','normal','normal','normal','high','normal','normal','normal','high','normal','high']\n",
    "wind=['weak','strong','weak','weak','weak','strong','strong','weak','weak','weak','strong','strong','weak','strong']\n",
    "play=['no','no','yes','yes','yes','no','yes','no','yes','yes','yes','yes','yes','no']"
   ]
  },
  {
   "cell_type": "code",
   "execution_count": 2,
   "id": "3268f9b1",
   "metadata": {},
   "outputs": [
    {
     "data": {
      "text/plain": [
       "array([2, 2, 0, 1, 1, 1, 0, 2, 2, 1, 2, 0, 0, 1])"
      ]
     },
     "execution_count": 2,
     "metadata": {},
     "output_type": "execute_result"
    }
   ],
   "source": [
    "#encoding-during training input data--numerical data\n",
    "#label encoding\n",
    "from sklearn.preprocessing import LabelEncoder\n",
    "le=LabelEncoder()\n",
    "outlook_encoder=le.fit_transform(outlook)\n",
    "outlook_encoder"
   ]
  },
  {
   "cell_type": "code",
   "execution_count": 3,
   "id": "a14b1e02",
   "metadata": {},
   "outputs": [
    {
     "data": {
      "text/plain": [
       "array([1, 1, 1, 2, 0, 0, 0, 2, 0, 2, 2, 2, 1, 2])"
      ]
     },
     "execution_count": 3,
     "metadata": {},
     "output_type": "execute_result"
    }
   ],
   "source": [
    "temperature_encoder=le.fit_transform(temperature)\n",
    "temperature_encoder"
   ]
  },
  {
   "cell_type": "code",
   "execution_count": 4,
   "id": "3afa20a1",
   "metadata": {},
   "outputs": [
    {
     "data": {
      "text/plain": [
       "array([0, 0, 0, 0, 1, 1, 1, 0, 1, 1, 1, 0, 1, 0])"
      ]
     },
     "execution_count": 4,
     "metadata": {},
     "output_type": "execute_result"
    }
   ],
   "source": [
    "humidity_encoder=le.fit_transform(humidity)\n",
    "humidity_encoder"
   ]
  },
  {
   "cell_type": "code",
   "execution_count": 5,
   "id": "331e7405",
   "metadata": {},
   "outputs": [
    {
     "data": {
      "text/plain": [
       "array([1, 0, 1, 1, 1, 0, 0, 1, 1, 1, 0, 0, 1, 0])"
      ]
     },
     "execution_count": 5,
     "metadata": {},
     "output_type": "execute_result"
    }
   ],
   "source": [
    "wind_encoder=le.fit_transform(wind)\n",
    "wind_encoder"
   ]
  },
  {
   "cell_type": "code",
   "execution_count": 6,
   "id": "5a51a897",
   "metadata": {},
   "outputs": [
    {
     "data": {
      "text/plain": [
       "[(2, 1, 0, 1),\n",
       " (2, 1, 0, 0),\n",
       " (0, 1, 0, 1),\n",
       " (1, 2, 0, 1),\n",
       " (1, 0, 1, 1),\n",
       " (1, 0, 1, 0),\n",
       " (0, 0, 1, 0),\n",
       " (2, 2, 0, 1),\n",
       " (2, 0, 1, 1),\n",
       " (1, 2, 1, 1),\n",
       " (2, 2, 1, 0),\n",
       " (0, 2, 0, 0),\n",
       " (0, 1, 1, 1),\n",
       " (1, 2, 0, 0)]"
      ]
     },
     "execution_count": 6,
     "metadata": {},
     "output_type": "execute_result"
    }
   ],
   "source": [
    "features=list(zip(outlook_encoder,temperature_encoder,humidity_encoder,wind_encoder))\n",
    "features"
   ]
  },
  {
   "cell_type": "markdown",
   "id": "d8bee194",
   "metadata": {},
   "source": [
    "Three types of Model\n",
    "1. Gaussian-- continous/numerical value\n",
    "2. Multinomial-- discrete/categorical data\n",
    "3. Bernoulli-- similar to multinomial"
   ]
  },
  {
   "cell_type": "code",
   "execution_count": 12,
   "id": "dddf9dde",
   "metadata": {},
   "outputs": [
    {
     "name": "stdout",
     "output_type": "stream",
     "text": [
      "['no']\n"
     ]
    }
   ],
   "source": [
    "from sklearn.naive_bayes import MultinomialNB\n",
    "model = MultinomialNB()\n",
    "model.fit(features,play)\n",
    "print(model.predict([[2,0,0,0]]))"
   ]
  }
 ],
 "metadata": {
  "kernelspec": {
   "display_name": "Python 3 (ipykernel)",
   "language": "python",
   "name": "python3"
  },
  "language_info": {
   "codemirror_mode": {
    "name": "ipython",
    "version": 3
   },
   "file_extension": ".py",
   "mimetype": "text/x-python",
   "name": "python",
   "nbconvert_exporter": "python",
   "pygments_lexer": "ipython3",
   "version": "3.8.10"
  }
 },
 "nbformat": 4,
 "nbformat_minor": 5
}
